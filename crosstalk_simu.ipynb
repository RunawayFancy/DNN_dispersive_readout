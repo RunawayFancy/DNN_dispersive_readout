{
 "cells": [
  {
   "cell_type": "code",
   "execution_count": 1,
   "metadata": {},
   "outputs": [],
   "source": [
    "import matplotlib.pyplot as plt\n",
    "\n",
    "import pandas as pd\n",
    "import torch\n",
    "import matplotlib.pyplot as plt\n",
    "import torch.nn as nn\n",
    "import torch.optim as optim\n",
    "import csv\n",
    "import numpy as np\n",
    "from torch.utils.data import DataLoader, TensorDataset\n",
    "from sklearn.model_selection import train_test_split\n",
    "import psutil\n",
    "import matplotlib.pyplot as plt\n",
    "\n",
    "def get_memory_usage():\n",
    "    process = psutil.Process()\n",
    "    memory_info = process.memory_info()\n",
    "    return memory_info.rss  # return physical memory occupency\n",
    "def normalize_list(input_list):\n",
    "    min_val = min(input_list)\n",
    "    max_val = max(input_list)\n",
    "    if max_val - min_val != 0:\n",
    "        normalized_list = [(x - min_val) / (max_val - min_val) for x in input_list]\n",
    "    elif max_val == 0: normalized_list = np.array(input_list)\n",
    "    else: normalized_list = np.array(input_list)/max_val\n",
    "    return normalized_list\n",
    "def remap_value(value, input_range, output_range):\n",
    "    # map `value` from `input_range` to `output_range`\n",
    "    input_min, input_max = input_range\n",
    "    output_min, output_max = output_range\n",
    "\n",
    "    mapped_value = (value - input_min) / (input_max - input_min) * (output_max - output_min) + output_min\n",
    "    return mapped_value\n",
    "\n",
    "def custom_remap(value):\n",
    "    if value > 0 and value<0.2:\n",
    "        return remap_value(value, (0, 0.2), (0, 0.1))\n",
    "    return value\n",
    "counts = 0\n",
    "\n",
    "class MLP(nn.Module):\n",
    "    def __init__(self):\n",
    "        super(MLP, self).__init__()\n",
    "        self.fc = nn.Sequential(\n",
    "            nn.Linear(2000, 900), \n",
    "            nn.ReLU(),  # ReLU activation function\n",
    "            nn.Linear(900,250),\n",
    "            nn.ReLU(),\n",
    "            nn.Linear(250,50),\n",
    "            nn.ReLU(),\n",
    "            nn.Linear(50, 2) \n",
    "        )\n",
    "\n",
    "    def forward(self, inputs):\n",
    "        outputs = self.fc(inputs)\n",
    "        return outputs"
   ]
  },
  {
   "cell_type": "code",
   "execution_count": 2,
   "metadata": {},
   "outputs": [],
   "source": [
    "data_set = {'trmnn': {'G0':0,'G1':0,'E0':0,'E1':0,'0G':0,'0E':0,'1G':0,'1E':0}, 'fnn': {'G0':0,'G1':0,'E0':0,'E1':0,'0G':0,'0E':0,'1G':0,'1E':0}}"
   ]
  },
  {
   "cell_type": "markdown",
   "metadata": {},
   "source": [
    "# Test"
   ]
  },
  {
   "cell_type": "markdown",
   "metadata": {},
   "source": [
    "## Define test function"
   ]
  },
  {
   "cell_type": "code",
   "execution_count": 9,
   "metadata": {},
   "outputs": [],
   "source": [
    "label2out = {'excited':1, 'ground':0}\n",
    "\n",
    "def test_trmnn(model, testloader, test_label):\n",
    "    if test_label in label2out.keys(): out_val = label2out[test_label]\n",
    "    else: out_val = 0.5\n",
    "    running_acc = 0.\n",
    "    list=[]\n",
    "    lens=0\n",
    "    for (inputs, labels) in testloader:\n",
    "        outputs = model(inputs)\n",
    "        outputs = torch.softmax(outputs, 1)\n",
    "        result, predict = torch.max(outputs,1)\n",
    "        list.append(outputs[:,1].item())\n",
    "        # list.append(result.item())\n",
    "        list.append(predict.item())\n",
    "        if labels.item() ==out_val and predict.item()==out_val:\n",
    "            correct_num = (predict == labels).sum()\n",
    "            running_acc += correct_num.item()\n",
    "            lens=lens+1\n",
    "    running_acc /= 2000 \n",
    "    return running_acc*100,list\n",
    "\n",
    "def test_fnn(model, testloader, test_label):\n",
    "    if test_label in label2out.keys(): out_val = label2out[test_label]\n",
    "    else: out_val = 0.5\n",
    "    running_acc = 0.\n",
    "    list=[]\n",
    "    lens=0\n",
    "    for (inputs, labels) in testloader:\n",
    "        outputs = model(inputs)\n",
    "        outputs = torch.softmax(outputs, 1)\n",
    "        result, predict = torch.max(outputs, 1)\n",
    "        list.append(outputs[:,1].item())\n",
    "        if labels.item() ==out_val and predict.item()==out_val:\n",
    "            correct_num = (predict == labels).sum()\n",
    "            running_acc += correct_num.item()\n",
    "            lens=lens+1\n",
    "    running_acc /= 2000\n",
    "    return running_acc*100,list"
   ]
  },
  {
   "cell_type": "markdown",
   "metadata": {},
   "source": [
    "## Load test set"
   ]
  },
  {
   "cell_type": "code",
   "execution_count": 10,
   "metadata": {},
   "outputs": [],
   "source": [
    "pth = 'Data/crosstalk_240625/test/'\n",
    "\n",
    "convert_dict = {'HF': {'ground': 'G', 'excited': 'E'}, 'LF': {'ground': '0', 'excited': '1'}}\n",
    "another_q_dict = {'HF': 'LF', 'LF': 'HF'}; another_q_condition_dict = {'wc': 'excited', 'c': 'ground'}\n",
    "## Notice that, the time represents the number average per point in a 200 ns Rabi \n",
    "## population vs. time sequence. The standard form for a rabi data is taken for 200ns, 40 population points, and total number of used IQ data groups are 40*time\n",
    "## Here, the IQ data point per test_label is 1000, therefore the maximum of time is 25\n",
    "\n",
    "# 'wc': without crosstalk\n",
    "# 'c': crosstalk\n",
    "time=50; test_label = ['LF' ,'excited', 'c']\n",
    "another_q = another_q_dict[test_label[0]]; another_q_condition = another_q_condition_dict[test_label[2]]\n",
    "q1q2_label = convert_dict[test_label[0]][test_label[1]] + convert_dict[another_q][another_q_condition]\n",
    "\n",
    "test_filenmae = [test_label[0] + '/' + test_label[0]+'_'+ test_label[2] +'_'+test_label[1]+'.csv']; test_lst = []\n",
    "for filename in test_filenmae:\n",
    "    test_lst.append(pd.read_csv(pth+filename, header=None))\n",
    "test_data=pd.concat(test_lst)\n",
    "\n",
    "X_test = test_data.iloc[0:40*time,0:2000].to_numpy().astype(float) # 0:2000 means data set size is 2000\n",
    "X_test_tensor = torch.tensor(X_test, dtype=torch.float32)\n",
    "if test_label[1]=='ground': Y_test_tensor = torch.zeros(time*40,dtype=torch.long).reshape((time*40,1))\n",
    "elif test_label[1]=='excited': Y_test_tensor = torch.ones(time*40,dtype=torch.long).reshape((time*40,1))\n",
    "else: Y_test_tensor = torch.ones(time*40,dtype=torch.long).reshape((time*40,1))\n",
    "testset = TensorDataset(X_test_tensor, Y_test_tensor)\n",
    "testloader = DataLoader(testset, batch_size=1, shuffle=False)"
   ]
  },
  {
   "cell_type": "markdown",
   "metadata": {},
   "source": [
    "## Run test and plot"
   ]
  },
  {
   "cell_type": "markdown",
   "metadata": {},
   "source": [
    "### Single test"
   ]
  },
  {
   "cell_type": "code",
   "execution_count": 11,
   "metadata": {},
   "outputs": [
    {
     "name": "stdout",
     "output_type": "stream",
     "text": [
      "Test accuracy\n",
      "TRMNN: 100.0%\n",
      "FNN: 100.0%\n",
      "(Mean, var) of ['LF', 'excited', 'c'] result are:\n",
      "TRMNN: (0.9733293594566487, 0.024318131079024148)\n",
      "FNN: (0.9733698903906299, 0.024319702279612446)\n"
     ]
    },
    {
     "data": {
      "image/png": "[encoded data removed]",
      "text/plain": [
       "<Figure size 640x480 with 3 Axes>"
      ]
     },
     "metadata": {},
     "output_type": "display_data"
    }
   ],
   "source": [
    "pth = 'Data/tomo_train_240608/train/trained_result/'\n",
    "if test_label[0] == 'LF':\n",
    "    mlp_model = torch.load(pth+'mlp_LF_5.pkl')\n",
    "else:\n",
    "    mlp_model = torch.load(pth+'mlp_HF_4.pkl')\n",
    "\n",
    "test_accuracy_trmnn, trnmm_list = test_trmnn(mlp_model, testloader, test_label[1])\n",
    "test_accuracy_fnn, fnn_list = test_fnn(mlp_model, testloader, test_label[1])\n",
    "\n",
    "print(\"Test accuracy\")\n",
    "print(f'TRMNN: {test_accuracy_trmnn}%')\n",
    "print(f'FNN: {test_accuracy_fnn}%')\n",
    "\n",
    "result_trmnn = np.zeros(40,dtype= float)\n",
    "for i in range(len(trnmm_list)):\n",
    "    result_trmnn[i%40]=result_trmnn[i%40]+trnmm_list[i]\n",
    "result_trmnn/time\n",
    "result_trmnn =normalize_list(result_trmnn)\n",
    "\n",
    "result_fnn = np.zeros(40,dtype= float)\n",
    "for i in range(len(fnn_list)):\n",
    "    result_fnn[i%40]=result_fnn[i%40]+fnn_list[i]\n",
    "result_fnn/time\n",
    "result_fnn =normalize_list(result_fnn)\n",
    "\n",
    "\n",
    "print(f'(Mean, var) of {test_label} result are:')\n",
    "print(f'TRMNN: ({np.average(result_trmnn)}, {np.var(result_trmnn)})')\n",
    "print(f'FNN: ({np.average(result_fnn)}, {np.var(result_fnn)})')\n",
    "\n",
    "x=np.linspace(0,200,len(result_fnn))\n",
    "plt.figure(555)\n",
    "\n",
    "plt.subplot(3,1,1)\n",
    "plt.plot(x,result_trmnn,'*',linewidth =0.5,label='TRMNN')\n",
    "plt.legend()\n",
    "\n",
    "plt.subplot(3,1,2)\n",
    "plt.plot(x,result_fnn,'^',linewidth =0.5,label='FNN')\n",
    "plt.legend()\n",
    "\n",
    "plt.subplot(3,1,3)\n",
    "plt.plot(x,result_fnn,'^',linewidth =0.5,label='FNN')\n",
    "plt.plot(x,result_trmnn,'*',linewidth =0.5,label='TRMNN')\n",
    "plt.legend()\n",
    "plt.show()\n",
    "\n",
    "if test_label[1]=='ground':\n",
    "    r_trmnn = 1-np.average(result_trmnn)\n",
    "    r_fnn = 1-np.average(result_fnn)\n",
    "else:\n",
    "    r_trmnn = np.average(result_trmnn)\n",
    "    r_fnn = np.average(result_fnn)\n",
    "\n",
    "data_set['trmnn'][q1q2_label]= r_trmnn\n",
    "data_set['fnn'][q1q2_label] = r_fnn"
   ]
  },
  {
   "cell_type": "code",
   "execution_count": 318,
   "metadata": {},
   "outputs": [
    {
     "data": {
      "text/plain": [
       "{'trmnn': {'G0': 0.9723872524199332,\n",
       "  'G1': 0.9700150090082575,\n",
       "  'E0': 0.9749475881620718,\n",
       "  'E1': 0.9749045206178746,\n",
       "  '0G': 0.9641690256327785,\n",
       "  '0E': 0.9619684409492557,\n",
       "  '1G': 0.9733293594566487,\n",
       "  '1E': 0.9729409377962751},\n",
       " 'fnn': {'G0': 0.9723872526178237,\n",
       "  'G1': 0.9700147770109491,\n",
       "  'E0': 0.9749475881620716,\n",
       "  'E1': 0.9749045206178746,\n",
       "  '0G': 0.9641690294684133,\n",
       "  '0E': 0.9619684448370585,\n",
       "  '1G': 0.9733698903906299,\n",
       "  '1E': 0.9733061071833603}}"
      ]
     },
     "execution_count": 318,
     "metadata": {},
     "output_type": "execute_result"
    }
   ],
   "source": [
    "data_set"
   ]
  },
  {
   "cell_type": "code",
   "execution_count": 317,
   "metadata": {},
   "outputs": [],
   "source": [
    "data_set={'trmnn': {\n",
    "  'G0': 0.9723872524199332,\n",
    "  'G1': 0.9700150090082575,\n",
    "  'E0': 0.9749475881620718,\n",
    "  'E1': 0.9749045206178746,\n",
    "  '0G': 0.9641690256327785,\n",
    "  '0E': 0.9619684409492557,\n",
    "  '1G': 0.9733293594566487,\n",
    "  '1E': 0.9729409377962751,\n",
    "  },\n",
    " 'fnn': {\n",
    "  'G0': 0.9723872526178237,\n",
    "  'G1': 0.9700147770109491,\n",
    "  'E0': 0.9749475881620716,\n",
    "  'E1': 0.9749045206178746,\n",
    "  '0G': 0.9641690294684133,\n",
    "  '0E': 0.9619684448370585,\n",
    "  '1G': 0.9733698903906299,\n",
    "  '1E': 0.9733061071833603,\n",
    "  }}"
   ]
  },
  {
   "cell_type": "code",
   "execution_count": 319,
   "metadata": {},
   "outputs": [],
   "source": [
    "import pickle\n",
    "\n",
    "pickle.dump(data_set, open('data_set.pkl', 'wb'))"
   ]
  },
  {
   "cell_type": "markdown",
   "metadata": {},
   "source": [
    "## Data processing"
   ]
  },
  {
   "cell_type": "code",
   "execution_count": 320,
   "metadata": {},
   "outputs": [],
   "source": [
    "def cal_assign_matrix(A,B,C,D,a,b,c,d):\n",
    "    assign_matrix = np.zeros([4,4])\n",
    "\n",
    "    assign_matrix[0,0] = A*a\n",
    "    assign_matrix[0,1] = A*(1-a)\n",
    "    assign_matrix[0,2] = (1-A)*a\n",
    "    assign_matrix[0,3] = (1-a)*(1-A)\n",
    "\n",
    "    assign_matrix[1,0] = B*(1-c)\n",
    "    assign_matrix[1,1] = B*c\n",
    "    assign_matrix[1,2] = (1-B)*(1-c)\n",
    "    assign_matrix[1,3] = (1-B)*c\n",
    "\n",
    "    assign_matrix[2,0] = (1-C)*b\n",
    "    assign_matrix[2,1] = (1-C)*(1-b)\n",
    "    assign_matrix[2,2] = C*b\n",
    "    assign_matrix[2,3] = C*(1-b)\n",
    "\n",
    "    assign_matrix[3,0] = (1-D)*(1-d)\n",
    "    assign_matrix[3,1] = (1-D)*d\n",
    "    assign_matrix[3,2] = D*(1-d)\n",
    "    assign_matrix[3,3] = D*d\n",
    "\n",
    "    return assign_matrix\n",
    "    "
   ]
  },
  {
   "cell_type": "markdown",
   "metadata": {},
   "source": [
    "### For TRMNN"
   ]
  },
  {
   "cell_type": "code",
   "execution_count": 321,
   "metadata": {},
   "outputs": [],
   "source": [
    "process_matrix_dict = {}\n",
    "net_list = ['trmnn', 'fnn']\n",
    "for keys in net_list:\n",
    "    dd = data_set[keys]\n",
    "    A = dd['G0']\n",
    "    B = dd['G1']\n",
    "    C = dd['E0']\n",
    "    D = dd['E1']\n",
    "    a = dd['0G']\n",
    "    b = dd['0E']\n",
    "    c = dd['1G']\n",
    "    d = dd['1E']\n",
    "    process_matrix_dict[keys] = cal_assign_matrix(A,B,C,D,a,b,c,d)\n",
    "    "
   ]
  },
  {
   "cell_type": "code",
   "execution_count": 322,
   "metadata": {},
   "outputs": [
    {
     "data": {
      "text/plain": [
       "{'trmnn': array([[9.37545670e-01, 3.48415827e-02, 2.66233559e-02, 9.89391651e-04],\n",
       "        [2.58709216e-02, 9.44144087e-01, 7.99718916e-04, 2.91852721e-02],\n",
       "        [2.40996296e-02, 9.52782280e-04, 9.37868811e-01, 3.70787768e-02],\n",
       "        [6.79060138e-04, 2.44164192e-02, 2.63800021e-02, 9.48524519e-01]]),\n",
       " 'fnn': array([[9.37545674e-01, 3.48415790e-02, 2.66233558e-02, 9.89391538e-04],\n",
       "        [2.58315998e-02, 9.44183177e-01, 7.98509775e-04, 2.91867132e-02],\n",
       "        [2.40996297e-02, 9.52782183e-04, 9.37868815e-01, 3.70787730e-02],\n",
       "        [6.69896037e-04, 2.44255833e-02, 2.60239968e-02, 9.48880524e-01]])}"
      ]
     },
     "execution_count": 322,
     "metadata": {},
     "output_type": "execute_result"
    }
   ],
   "source": [
    "import pickle\n",
    "pickle.dump(process_matrix_dict, open('process_matrix_dict.pkl', 'wb'))\n",
    "process_matrix_dict"
   ]
  },
  {
   "cell_type": "markdown",
   "metadata": {},
   "source": [
    "### TRMNN"
   ]
  },
  {
   "cell_type": "code",
   "execution_count": 9,
   "metadata": {},
   "outputs": [],
   "source": [
    "d = data_set['trmnn']\n",
    "which_label = 'LF'\n",
    "label_set1 = ['ground', 'ground', 'excited', 'excited']\n",
    "label_set2 = ['ground', 'excited', 'ground', 'excited']\n",
    "crosstalk_matrix = np.zeros([4,4])\n",
    "\n",
    "for i,j in enumerate(zip(label_set1, label_set2)):\n",
    "    for k,l in enumerate(zip(label_set1, label_set2)):\n",
    "        val = d[which_label][j[0]][l[0]] * d[which_label][j[1]][l[1]]\n",
    "        crosstalk_matrix[i,k] = val\n",
    "crosstalk_matrix"
   ]
  },
  {
   "cell_type": "code",
   "execution_count": 32,
   "metadata": {},
   "outputs": [
    {
     "data": {
      "image/png": "[encoded data removed]",
      "text/plain": [
       "<Figure size 640x480 with 3 Axes>"
      ]
     },
     "metadata": {},
     "output_type": "display_data"
    }
   ],
   "source": [
    "from numpy.ma import masked_array\n",
    "from matplotlib.colors import LinearSegmentedColormap, BoundaryNorm\n",
    "\n",
    "cmap_high= LinearSegmentedColormap.from_list(\"mid\", [\"white\", \"red\"], N=100)\n",
    "cmap_mid= LinearSegmentedColormap.from_list(\"high\", [\"blue\", \"black\"], N=100)\n",
    "\n",
    "data =crosstalk_matrix* 100\n",
    "v1a = masked_array(data,data<10)\n",
    "v1b = masked_array(data,data>=90)\n",
    "fig,ax = plt.subplots()\n",
    "pa = ax.imshow(v1a,interpolation='nearest',cmap=cmap_mid, norm=plt.Normalize(95, 100))\n",
    "cba = plt.colorbar(pa,shrink=0.5)\n",
    "pb = ax.imshow(v1b,interpolation='nearest',cmap=cmap_high, norm=plt.Normalize(0, 5))\n",
    "cbb = plt.colorbar(pb,shrink=0.5)\n",
    "\n",
    "states = [r'$|gg\\rangle$', r'$|ge\\rangle$', r'$|eg\\rangle$', r'$|ee\\rangle$']\n",
    "\n",
    "for i in range(len(states)):\n",
    "    for j in range(len(states)):\n",
    "        text = ax.text(j, i, np.round(data[i, j],2),\n",
    "                       ha=\"center\", va=\"center\", color=\"w\")\n",
    "\n",
    "\n",
    "ax.set_xticks(np.arange(len(states)))\n",
    "ax.set_yticks(np.arange(len(states)))\n",
    "ax.set_xticklabels(states)\n",
    "ax.set_yticklabels(states)\n",
    "\n",
    "plt.title(f'Assignment Probability Matrix, {which_label}')\n",
    "ax.set_xlabel('Assigned state')\n",
    "ax.set_ylabel('Prepared state')\n",
    "cba.set_label('Assignment Probability %')\n",
    "plt.show()"
   ]
  },
  {
   "cell_type": "code",
   "execution_count": 61,
   "metadata": {},
   "outputs": [],
   "source": [
    "label_set1 = ['ground', 'ground', 'excited', 'excited']\n",
    "label_set2 = ['ground', 'excited', 'ground', 'excited']"
   ]
  },
  {
   "cell_type": "code",
   "execution_count": 62,
   "metadata": {},
   "outputs": [
    {
     "name": "stdout",
     "output_type": "stream",
     "text": [
      "0 ('ground', 'ground')\n",
      "1 ('ground', 'excited')\n",
      "2 ('excited', 'ground')\n",
      "3 ('excited', 'excited')\n"
     ]
    }
   ],
   "source": [
    "for i,j in enumerate(zip(label_set1, label_set2)):\n",
    "    print(i,j)"
   ]
  },
  {
   "cell_type": "code",
   "execution_count": null,
   "metadata": {},
   "outputs": [],
   "source": []
  }
 ],
 "metadata": {
  "kernelspec": {
   "display_name": "torch",
   "language": "python",
   "name": "python3"
  },
  "language_info": {
   "codemirror_mode": {
    "name": "ipython",
    "version": 3
   },
   "file_extension": ".py",
   "mimetype": "text/x-python",
   "name": "python",
   "nbconvert_exporter": "python",
   "pygments_lexer": "ipython3",
   "version": "3.10.10"
  }
 },
 "nbformat": 4,
 "nbformat_minor": 2
}
